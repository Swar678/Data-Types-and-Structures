{
  "nbformat": 4,
  "nbformat_minor": 0,
  "metadata": {
    "colab": {
      "provenance": []
    },
    "kernelspec": {
      "name": "python3",
      "display_name": "Python 3"
    },
    "language_info": {
      "name": "python"
    }
  },
  "cells": [
    {
      "cell_type": "markdown",
      "source": [
        "#**Theory Questions**"
      ],
      "metadata": {
        "id": "kUrFxlFzOMuz"
      }
    },
    {
      "cell_type": "markdown",
      "source": [
        "1. What are data structures, and why are they important?\n",
        " - Data structures are ways to organize and store data in an efficient manner. They act like containers that decide how data is stored, accessed, and changed.\n",
        " - Data structures can hold different types of values, like strings, lists, tuples, sets, dictionaries, booleans, and more. Each type has its own use cases and benefits depending on how we need to access or modify the data.\n",
        " - The importance of data structures is that they help solve real-world problems more effectively. They're key in areas like software development, data analysis, and many more. Choosing the right data structure is important for improving performance, managing memory usage, and making analysis easier.\n",
        "\n",
        "2.  Explain the difference between mutable and immutable data types with examples.\n",
        " - Mutable data types are those whose values can be changed after they are created. This means we can modify the data, add or remove elements, and perform various other operations that alter the original object.\n",
        " - Common examples of mutable data types are lists, sets, dictionaries.\n",
        " - For Example - In list data types we can do append or remove or access the particular elemenet.\n",
        "  my_list = [\"Book\", \"Pen\", \"Scale\"]\n",
        "  my_list.append(\"Pencil\") # Adds Pencil to the list\n",
        "  my_list[2] = \"Bag\" # Modifies the third element\n",
        "  print(my_list) # Output: [\"Book\", \"Pen\", \"Bag\", \"Pencil\"]\n",
        " - Immutable data types are those whose values cannot be changed after they are created. This means we cannot modify the data, add or remove elements, or perform any operation that alters the original object.\n",
        " - Examples of immutable data types include tuples, strings, and frozensets. For example, in a tuple, we cannot append or remove elements:\n",
        " my_tuple = (100,600,900)\n",
        " my_tuple[1] = 200 # it will throw an error\n",
        "\n",
        "3. What are the main differences between lists and tuples in Python?\n",
        " - Lists:\n",
        "  Lists are used to store a collection of data of any type, enclosed in square brackets.\n",
        "  It is also mutable, meaning we can modify them, such as adding, removing, or changing elements.\n",
        "  Example format:\n",
        "   a = [1,True,\"Ram\",4.5]\n",
        " - Tuples:\n",
        "  Tuples are also used to store any type of data, but they are enclosed in round brackets.\n",
        "  Tuples are immutable, meaning once they are created, no changes can be made to them. We cannot modify, add, or remove elements.\n",
        "  Example format:\n",
        "   a = (1,True,\"Ram\",4.5)\n",
        "\n",
        "4. Describe how dictionaries store data.\n",
        " - Dictionaries store data in key-value pairs. The key is unique, and each key has a corresponding value. The values can be of any data type, like numbers, strings, lists, tuples, sets, or even other dictionaries.\n",
        "  - For example:\n",
        "   a = {\n",
        "    \"Name\": \"Swar\",\n",
        "    \"Age\": 25,\n",
        "    \"Marks Obtained\": 498.50,\n",
        "    \"Hobbies\": [\"Book Reading\", \"Sports\", \"Travelling\"],\n",
        "    \"Family_Members\": (\"Mommy\",\"Papa\",\"Bhaiya\",\"Bhabhi\"),\n",
        "    \"Special_numbers\": {23,30,22,14}\n",
        "   }\n",
        "\n",
        " - In above eaxmple, the keys are \"Name\", \"Age\", \"Marks Obtained\", \"Hobbies\",\"Family_Members\", \"Special_numbers\" and values are mix of strings, numbers, lists, tuples, sets.\n",
        "\n",
        "5. Why might you use a set instead of a list in Python?\n",
        " - We would use a set when we need to store unordered data and don't want any duplicates. Sets automatically ignore duplicate values.\n",
        " - A list is useful when we want to store data in a specific order and might need to change it later, like adding, removing, or modifying elements.\n",
        "\n",
        "6. What is a string in Python, and how is it different from a list?\n",
        " - A string in Python is a data type used to store text. It is immutable, meaning once it is created, we can't change its content. Strings are always inside single or double quotes.\n",
        " - A list is also a data type but is mutable, so we can change its elements. Lists are inside square brackets and can hold different types of data, like numbers, strings, or even other lists.\n",
        "\n",
        "7. How do tuples ensure data integrity in Python?\n",
        " - Tuples ensure data integrity through its immutable characteristic. Once a tuple is created, we can't modify, add, or remove any of its elements. This means the data stays the same, which helps keep it reliable and ensures its integrity.\n",
        "\n",
        "8. What is a hash table, and how does it relate to dictionaries in Python?\n",
        " - A hash table is a data structure that stores key-value pairs, where the key is generated through a hashing function. This function creates a unique value for each key, which helps in quickly accessing the corresponding value of the particular key.\n",
        " - Dictionaries work based on hash tables. When we use a dictionary, the keys are hashed, and the values are stored at locations determined by these hash values. This makes accessing values by key really fast and efficient.\n",
        "\n",
        "9. Can lists contain different data types in Python?\n",
        " - Yes, lists can contain elements of different data types. It can have integers, strings, floats, and even other lists or dictionaries within a single list.\n",
        "\n",
        "10. Explain why strings are immutable in Python.\n",
        " - Strings are immutable in Python due to following reasons:\n",
        "\n",
        "  - Performance optimization: Immutable objects are more efficient in terms of both memory and speed, especially when strings are used repeatedly. Since strings can't be changed, so the storage is managed more effectively.\n",
        "  - Used as dictionary keys: Since dictionary keys need to be immutable and hashable, strings are best for this. Their immutability ensures that their hash value remains the same, making them reliable for quick lookups or accessing values.\n",
        "\n",
        "  - Thread safety: Because strings are immutable, they are safe to use across multiple threads/tasks. Since they can't be changed, we don't have to worry about one thread modifying the string while another is using it, which helps avoid problems in multi-threaded environments.\n",
        "\n",
        "11. What advantages do dictionaries offer over lists for certain tasks?\n",
        " - Dictionaries have several advantages over lists on certain tasks because they store data as key-value pairs. This makes it easier and faster to retrieve data using a key, instead of depending on the index of an element like in lists.\n",
        " - Advantages are faster access using the keys, no indexing is required and as the data is unordered just using key can get the required values, better organization due to key-value pairs.\n",
        "\n",
        "12. Describe a scenario where using a tuple would be preferable over a list.\n",
        " - A tuple is preferable over a list when we need to store data that should not be changed after it's created. Since tuples are immutable, they are ideal for situations where the data should remain constant and unmodifiable.\n",
        " - For example: Storing an Aadhar card number or any other unique identifier. Once created, it should not change. Using a tuple ensures that the value is protected from any changes.\n",
        "\n",
        "13. How do sets handle duplicate values in Python?\n",
        " - Sets contains only distinct elements. When we try to add a duplicate value to a set, it automatically ignores it and doesn't store it. This ensures that each element in a set is unique.\n",
        "\n",
        "14. How does the “in” keyword work differently for lists and dictionaries?\n",
        " - The \"in\" keyword work differently for lists and dictionaries:\n",
        "\n",
        " - In a list, the \"in\" keyword is used to check if a particular element exists in the list. It searches through the list to see if the particular element or value is present.\n",
        " - In a dictionary, the \"in\" keyword checks if a key exists in the dictionary. It doesn't check the values, it searches through the dictionary's keys.\n",
        "\n",
        "15. Can you modify the elements of a tuple? Explain why or why not.\n",
        " - No, we cannot modify the elements of a tuple because it is immutable. Once a tuple is created, its values cannot be changed, added, or removed. This immutability is a main feature of tuples, which makes them useful for situations where we want to ensure the data remains unchanged. Trying to change an element of a tuple would result in an error. This immutability helps ensure data integrity, especially in cases where the data should remain constant.\n",
        " - For example - Aadhar card number, or any government document number which has to be constant.\n",
        "\n",
        "16. What is a nested dictionary, and give an example of its use case?\n",
        " - A nested dictionary is a dictionary where one or more of its values are\n",
        "  themselves dictionaries. This allows us to store more complex data structures within a dictionary, making it possible to organize data in a hierarchical way.\n",
        "  - For example:\n",
        "  If we want to store information about our family members details such as name, age, profession, hobby. We can use a nested dictionary to structure this data.\n",
        "  - family_details = {\n",
        "    \"Mother\":{\"Name\":\"Manju Kumari\", \"Age\":55, \"Profession\": \"Governemnt_employee_retired\", \"Hobby\": {\"Internal\": \"Puja\", \"External\": \"Travelling\"}},\n",
        "    \"Father\":{\"Name\":\"Narendra Prasad Singh\", \"Age\":60, \"Profession\": \"Social_worker\", \"Hobby\": {\"Internal\": \"Singing\", \"External\": \"Harmonium\"}}\n",
        "  }\n",
        "  print(family_details['Mother']['Hobby']['Internal'])  # Output: Puja\n",
        "  - In the above example:\n",
        "  The outer dictionary stores the familys members relationship as keys.\n",
        "  The inner dictionaries store the each family members personal details and hobby.\n",
        "\n",
        "\n",
        "17. Describe the time complexity of accessing elements in a dictionary?\n",
        " - Accessing elements in a dictionary by key has an average time complexity of O(1). This means it takes constant time to retrieve a value, no matter how large the dictionary is. So, it's really efficient when we need to look up data by a key.\n",
        " - However, in rare cases, like when there are hash collisions, the time complexity could go up to O(n), where n is the number of elements. But usually, we can expect O(1) time for accessing dictionary values.\n",
        "\n",
        "18. In what situations are lists preferred over dictionaries?\n",
        " - Lists are preferred over dictionaries when we need to store a sequence of items without the need for key-value pairs. Lists are ideal when the order of elements matters or when we need to access elements by their position, that is, index in the sequence.\n",
        " - Lists can be used when:\n",
        " - We don't need to associate each item with a unique key.\n",
        " - We want to store ordered data where elements can be accessed by their index.\n",
        " - The elements may need to be modified, added, or removed frequently.\n",
        "\n",
        "19. Why are dictionaries considered unordered, and how does that affect data retrieval?\n",
        " - Dictionaries are considered unordered because the elements, that is, key-value pairs are not stored in a specific sequence. Dictionaries store data in a way that allows fast access using unique keys, but the order of these pairs is not guaranteed.\n",
        " - Since dictionaries don't store items in a particular order, we cannot access data by position. Instead, we retrieve data using the key, which gives the corresponding value to that key.\n",
        "\n",
        "20. Explain the difference between a list and a dictionary in terms of data retrieval.\n",
        " - A list can be accessed using the position or index of the elements, meaning we retrieve data based on where it is located in the list.\n",
        " - On the other hand, dictionary uses unique keys to access its values. Each value is linked to a specific key, so we can retrieve the value by using the key associated with it."
      ],
      "metadata": {
        "id": "rewk3HvsIZqa"
      }
    },
    {
      "cell_type": "markdown",
      "source": [
        "# **Practical** **Questions**"
      ],
      "metadata": {
        "id": "B_dO6h4sKb1t"
      }
    },
    {
      "cell_type": "markdown",
      "source": [
        "####***Related to String:***"
      ],
      "metadata": {
        "id": "YiSRn8DGQMpl"
      }
    },
    {
      "cell_type": "code",
      "source": [
        "# 1. Write a code to create a string with your name and print it.\n",
        "my_name = \"Swar Sudha\"\n",
        "print(my_name)"
      ],
      "metadata": {
        "colab": {
          "base_uri": "https://localhost:8080/"
        },
        "id": "ivsJ9JtvKd-U",
        "outputId": "38b35290-4466-49f7-b63d-eb9b6e2bf984"
      },
      "execution_count": null,
      "outputs": [
        {
          "output_type": "stream",
          "name": "stdout",
          "text": [
            "Swar Sudha\n"
          ]
        }
      ]
    },
    {
      "cell_type": "code",
      "source": [
        "# 2. Write a code to find the length of the string \"Hello World\".\n",
        "length_string = \"Hello World\"\n",
        "print(len(length_string))"
      ],
      "metadata": {
        "colab": {
          "base_uri": "https://localhost:8080/"
        },
        "id": "5DNLZBx-K_LZ",
        "outputId": "4b427def-a43c-4154-83a0-29a27e910cab"
      },
      "execution_count": null,
      "outputs": [
        {
          "output_type": "stream",
          "name": "stdout",
          "text": [
            "11\n"
          ]
        }
      ]
    },
    {
      "cell_type": "code",
      "source": [
        "# 3. Write a code to slice the first 3 characters from the string \"Python Programming\".\n",
        "slice_string = \"Python Programming\"\n",
        "print(slice_string[:3])"
      ],
      "metadata": {
        "colab": {
          "base_uri": "https://localhost:8080/"
        },
        "id": "wCjQmeR_LZER",
        "outputId": "5bde1d0f-736e-496e-9c8a-e364b00c7eb0"
      },
      "execution_count": null,
      "outputs": [
        {
          "output_type": "stream",
          "name": "stdout",
          "text": [
            "Pyt\n"
          ]
        }
      ]
    },
    {
      "cell_type": "code",
      "source": [
        "# 4. Write a code to convert the string \"hello\" to uppercase.\n",
        "convert_string = \"hello\"\n",
        "print(convert_string.upper())"
      ],
      "metadata": {
        "colab": {
          "base_uri": "https://localhost:8080/"
        },
        "id": "3JRWZJXhMNDU",
        "outputId": "5a46ed8f-c932-4fed-aa86-a458a1d44d63"
      },
      "execution_count": null,
      "outputs": [
        {
          "output_type": "stream",
          "name": "stdout",
          "text": [
            "HELLO\n"
          ]
        }
      ]
    },
    {
      "cell_type": "code",
      "source": [
        "# 5. Write a code to replace the word \"apple\" with \"orange\" in the string \"I like apple\".\n",
        "replace_string = \"I like apple\"\n",
        "print(replace_string.replace(\"apple\",\"orange\"))"
      ],
      "metadata": {
        "colab": {
          "base_uri": "https://localhost:8080/"
        },
        "id": "tRzPfNhdNK3T",
        "outputId": "2e0289bf-379d-4ecf-97f8-df6c38592f96"
      },
      "execution_count": null,
      "outputs": [
        {
          "output_type": "stream",
          "name": "stdout",
          "text": [
            "I like orange\n"
          ]
        }
      ]
    },
    {
      "cell_type": "markdown",
      "source": [
        "####**Related to List:**"
      ],
      "metadata": {
        "id": "_u0p55U0Qcbk"
      }
    },
    {
      "cell_type": "code",
      "source": [
        "# 6. Write a code to create a list with numbers 1 to 5 and print it.\n",
        "list_number = [1,2,3,4,5]\n",
        "print(list_number)\n",
        "\n",
        "list_range = list(range(1,6))\n",
        "print(list_range)"
      ],
      "metadata": {
        "colab": {
          "base_uri": "https://localhost:8080/"
        },
        "id": "OaPt7Yu8Ns8r",
        "outputId": "c70d297a-1a5b-462c-8ad4-2becde07774c"
      },
      "execution_count": null,
      "outputs": [
        {
          "output_type": "stream",
          "name": "stdout",
          "text": [
            "[1, 2, 3, 4, 5]\n",
            "[1, 2, 3, 4, 5]\n"
          ]
        }
      ]
    },
    {
      "cell_type": "code",
      "source": [
        "# 7. Write a code to append the number 10 to the list [1, 2, 3, 4].\n",
        "list_append = [1, 2, 3, 4]\n",
        "list_append.append(10)\n",
        "print(list_append)"
      ],
      "metadata": {
        "colab": {
          "base_uri": "https://localhost:8080/"
        },
        "id": "l3IG40fzOcIp",
        "outputId": "1550a9fe-e91a-4475-815e-2f3196cb0013"
      },
      "execution_count": null,
      "outputs": [
        {
          "output_type": "stream",
          "name": "stdout",
          "text": [
            "[1, 2, 3, 4, 10]\n"
          ]
        }
      ]
    },
    {
      "cell_type": "code",
      "source": [
        "# 8.  Write a code to remove the number 3 from the list [1, 2, 3, 4, 5].\n",
        "remove_number =  [1, 2, 3, 4, 5]\n",
        "remove_number.remove(3)\n",
        "print(remove_number)"
      ],
      "metadata": {
        "colab": {
          "base_uri": "https://localhost:8080/"
        },
        "id": "kb4IMIWnQGVf",
        "outputId": "6ed4a023-9cd0-4d1a-c18a-3ff96f46f3d7"
      },
      "execution_count": null,
      "outputs": [
        {
          "output_type": "stream",
          "name": "stdout",
          "text": [
            "[1, 2, 4, 5]\n"
          ]
        }
      ]
    },
    {
      "cell_type": "code",
      "source": [
        "# 9. Write a code to access the second element in the list ['a', 'b', 'c', 'd'].\n",
        "second_element = ['a', 'b', 'c', 'd']\n",
        "print(second_element[1])"
      ],
      "metadata": {
        "colab": {
          "base_uri": "https://localhost:8080/"
        },
        "id": "qgegOuRLQ9-9",
        "outputId": "571916b5-f4ec-4438-95c5-edb4c26ee72c"
      },
      "execution_count": null,
      "outputs": [
        {
          "output_type": "stream",
          "name": "stdout",
          "text": [
            "b\n"
          ]
        }
      ]
    },
    {
      "cell_type": "code",
      "source": [
        "# 10. Write a code to reverse the list [10, 20, 30, 40, 50].\n",
        "my_list = [10, 20, 30, 40, 50]\n",
        "my_list.reverse()\n",
        "print(my_list)"
      ],
      "metadata": {
        "id": "36Z4hi85RXav",
        "colab": {
          "base_uri": "https://localhost:8080/"
        },
        "outputId": "5321b9ae-feca-4993-bb3d-ea3e92388a42"
      },
      "execution_count": null,
      "outputs": [
        {
          "output_type": "stream",
          "name": "stdout",
          "text": [
            "[50, 40, 30, 20, 10]\n"
          ]
        }
      ]
    },
    {
      "cell_type": "markdown",
      "source": [
        "####**Related to Tuple:**"
      ],
      "metadata": {
        "id": "vLUT64svz67q"
      }
    },
    {
      "cell_type": "code",
      "source": [
        "# 11. Write a code to create a tuple with the elements 100, 200, 300 and print it.\n",
        "my_tuple = (100,200,300)\n",
        "print(my_tuple)"
      ],
      "metadata": {
        "colab": {
          "base_uri": "https://localhost:8080/"
        },
        "id": "tuzoK4pg0FPD",
        "outputId": "244903df-2e3d-46c6-e8c3-1ab79e5d5cac"
      },
      "execution_count": null,
      "outputs": [
        {
          "output_type": "stream",
          "name": "stdout",
          "text": [
            "(100, 200, 300)\n"
          ]
        }
      ]
    },
    {
      "cell_type": "code",
      "source": [
        "# 12. Write a code to access the second-to-last element of the tuple ('red', 'green', 'blue', 'yellow').\n",
        "my_tuple = ('red', 'green', 'blue', 'yellow')\n",
        "print(my_tuple[-2])"
      ],
      "metadata": {
        "colab": {
          "base_uri": "https://localhost:8080/"
        },
        "id": "pBZB6Cgh0cVt",
        "outputId": "a8da7be9-7b92-4063-ee98-d25a95248f5b"
      },
      "execution_count": null,
      "outputs": [
        {
          "output_type": "stream",
          "name": "stdout",
          "text": [
            "blue\n"
          ]
        }
      ]
    },
    {
      "cell_type": "code",
      "source": [
        "#  13. Write a code to find the minimum number in the tuple (10, 20, 5, 15).\n",
        "my_tuple = (10, 20, 5, 15)\n",
        "min_num = min(my_tuple)\n",
        "print(min_num)"
      ],
      "metadata": {
        "colab": {
          "base_uri": "https://localhost:8080/"
        },
        "id": "Rz3HV-V80v9j",
        "outputId": "7b838ee2-c34b-469d-88dd-e134b0b23a28"
      },
      "execution_count": null,
      "outputs": [
        {
          "output_type": "stream",
          "name": "stdout",
          "text": [
            "5\n"
          ]
        }
      ]
    },
    {
      "cell_type": "code",
      "source": [
        "# 14. Write a code to find the index of the element \"cat\" in the tuple ('dog', 'cat', 'rabbit').\n",
        "my_tuple = ('dog', 'cat', 'rabbit')\n",
        "print(my_tuple.index('cat'))"
      ],
      "metadata": {
        "colab": {
          "base_uri": "https://localhost:8080/"
        },
        "id": "4zWW_W-h1UGx",
        "outputId": "0d09eab2-25f9-4962-beb0-40c569091e27"
      },
      "execution_count": null,
      "outputs": [
        {
          "output_type": "stream",
          "name": "stdout",
          "text": [
            "1\n"
          ]
        }
      ]
    },
    {
      "cell_type": "code",
      "source": [
        "# 15. Write a code to create a tuple containing three different fruits and check if \"kiwi\" is in it.\n",
        "my_tuple = ('apple','kiwi','orange')\n",
        "print('kiwi' in my_tuple)"
      ],
      "metadata": {
        "colab": {
          "base_uri": "https://localhost:8080/"
        },
        "id": "eGqK9yfG4T28",
        "outputId": "f7c71b45-65cc-48c9-842c-042114a91e82"
      },
      "execution_count": null,
      "outputs": [
        {
          "output_type": "stream",
          "name": "stdout",
          "text": [
            "True\n"
          ]
        }
      ]
    },
    {
      "cell_type": "markdown",
      "source": [
        "####**Related to Set:**"
      ],
      "metadata": {
        "id": "Yh0eKKE_5cvX"
      }
    },
    {
      "cell_type": "code",
      "source": [
        "# 16. Write a code to create a set with the elements 'a', 'b', 'c' and print it.\n",
        "my_set = {'a', 'b', 'c'}\n",
        "print(my_set)"
      ],
      "metadata": {
        "colab": {
          "base_uri": "https://localhost:8080/"
        },
        "id": "p2owNePa5mHn",
        "outputId": "eff35c29-84ca-4ab0-cec9-4cc8528f3237"
      },
      "execution_count": null,
      "outputs": [
        {
          "output_type": "stream",
          "name": "stdout",
          "text": [
            "{'c', 'a', 'b'}\n"
          ]
        }
      ]
    },
    {
      "cell_type": "code",
      "source": [
        "# 17. Write a code to clear all elements from the set {1, 2, 3, 4, 5}.\n",
        "my_set = {1, 2, 3, 4, 5}\n",
        "my_set.clear()\n",
        "print(my_set)"
      ],
      "metadata": {
        "colab": {
          "base_uri": "https://localhost:8080/"
        },
        "id": "tm6LAu2954hz",
        "outputId": "1e7f8dc3-3916-45b1-d5d2-c5b867523878"
      },
      "execution_count": null,
      "outputs": [
        {
          "output_type": "stream",
          "name": "stdout",
          "text": [
            "set()\n"
          ]
        }
      ]
    },
    {
      "cell_type": "code",
      "source": [
        "# 18. Write a code to remove the element 4 from the set {1, 2, 3, 4}.\n",
        "my_set = {1,2,3,4}\n",
        "my_set.remove(4)\n",
        "print(my_set)"
      ],
      "metadata": {
        "colab": {
          "base_uri": "https://localhost:8080/"
        },
        "id": "qslfHGSU6Uwc",
        "outputId": "3ab33057-3de6-4a56-be44-a602b0113163"
      },
      "execution_count": null,
      "outputs": [
        {
          "output_type": "stream",
          "name": "stdout",
          "text": [
            "{1, 2, 3}\n"
          ]
        }
      ]
    },
    {
      "cell_type": "code",
      "source": [
        "# 19.  Write a code to find the union of two sets {1, 2, 3} and {3, 4, 5}.\n",
        "set1 = {1, 2, 3}\n",
        "set2 = {3, 4, 5}\n",
        "print(set1.union(set2))"
      ],
      "metadata": {
        "colab": {
          "base_uri": "https://localhost:8080/"
        },
        "id": "tHSFHYuT6jz8",
        "outputId": "aac39dfa-dd5a-482d-d129-47d4c28f00fb"
      },
      "execution_count": null,
      "outputs": [
        {
          "output_type": "stream",
          "name": "stdout",
          "text": [
            "{1, 2, 3, 4, 5}\n"
          ]
        }
      ]
    },
    {
      "cell_type": "code",
      "source": [
        "# 20. Write a code to find the intersection of two sets {1, 2, 3} and {2, 3, 4}.\n",
        "set1 = {1, 2, 3}\n",
        "set2 = {2, 3, 4}\n",
        "print(set1.intersection(set2))"
      ],
      "metadata": {
        "colab": {
          "base_uri": "https://localhost:8080/"
        },
        "id": "C2pVe79164ky",
        "outputId": "28e56009-3706-4e58-9a38-14ed52687c03"
      },
      "execution_count": null,
      "outputs": [
        {
          "output_type": "stream",
          "name": "stdout",
          "text": [
            "{2, 3}\n"
          ]
        }
      ]
    },
    {
      "cell_type": "markdown",
      "source": [
        "####**Related to Dictionary**"
      ],
      "metadata": {
        "id": "rIHwUTT57MTn"
      }
    },
    {
      "cell_type": "code",
      "source": [
        "# 21.  Write a code to create a dictionary with the keys \"name\", \"age\", and \"city\", and print it.\n",
        "my_dict = {\"name\": \"Swar\", \"age\": 25, \"city\": \"Saharsa\"}\n",
        "print(my_dict)"
      ],
      "metadata": {
        "colab": {
          "base_uri": "https://localhost:8080/"
        },
        "id": "5oSseWB17TPr",
        "outputId": "99457a94-9e27-4e67-eea7-725abe3270f7"
      },
      "execution_count": null,
      "outputs": [
        {
          "output_type": "stream",
          "name": "stdout",
          "text": [
            "{'name': 'Swar', 'age': 25, 'city': 'Saharsa'}\n"
          ]
        }
      ]
    },
    {
      "cell_type": "code",
      "source": [
        "# 22. Write a code to add a new key-value pair \"country\": \"USA\" to the dictionary {'name': 'John', 'age': 25}.\n",
        "my_dict = {'name': 'John', 'age': 25}\n",
        "my_dict[\"country\"] = \"USA\"\n",
        "print(my_dict)"
      ],
      "metadata": {
        "colab": {
          "base_uri": "https://localhost:8080/"
        },
        "id": "s0UAvydZ7zig",
        "outputId": "e11542c1-8c6a-4c4b-d196-f6818eafe419"
      },
      "execution_count": null,
      "outputs": [
        {
          "output_type": "stream",
          "name": "stdout",
          "text": [
            "{'name': 'John', 'age': 25, 'country': 'USA'}\n"
          ]
        }
      ]
    },
    {
      "cell_type": "code",
      "source": [
        "# 23. Write a code to access the value associated with the key \"name\" in the dictionary {'name': 'Alice', 'age': 30}.\n",
        "my_dict = {'name': 'Alice', 'age': 30}\n",
        "print(my_dict['name'])"
      ],
      "metadata": {
        "colab": {
          "base_uri": "https://localhost:8080/"
        },
        "id": "7Qu-wewt8TYY",
        "outputId": "7369fddd-828f-4cf2-837c-6cbaf124d71d"
      },
      "execution_count": null,
      "outputs": [
        {
          "output_type": "stream",
          "name": "stdout",
          "text": [
            "Alice\n"
          ]
        }
      ]
    },
    {
      "cell_type": "code",
      "source": [
        "# 24. Write a code to remove the key \"age\" from the dictionary {'name': 'Bob', 'age': 22, 'city': 'New York'}.\n",
        "my_dict = {'name': 'Bob', 'age': 22, 'city': 'New York'}\n",
        "my_dict.pop('age')\n",
        "print(my_dict)"
      ],
      "metadata": {
        "colab": {
          "base_uri": "https://localhost:8080/"
        },
        "id": "9oGrNZ3S8sqf",
        "outputId": "384575fc-e70d-447e-d63f-88b26638d410"
      },
      "execution_count": null,
      "outputs": [
        {
          "output_type": "stream",
          "name": "stdout",
          "text": [
            "{'name': 'Bob', 'city': 'New York'}\n"
          ]
        }
      ]
    },
    {
      "cell_type": "code",
      "source": [
        "# 25. Write a code to check if the key \"city\" exists in the dictionary {'name': 'Alice', 'city': 'Paris'}.\n",
        "my_dict = {'name': 'Alice', 'city': 'Paris'}\n",
        "print(\"city\" in my_dict)"
      ],
      "metadata": {
        "colab": {
          "base_uri": "https://localhost:8080/"
        },
        "id": "2xA5CqN89eRo",
        "outputId": "4d5da737-50b6-4360-83d3-38abd6b994be"
      },
      "execution_count": null,
      "outputs": [
        {
          "output_type": "stream",
          "name": "stdout",
          "text": [
            "True\n"
          ]
        }
      ]
    },
    {
      "cell_type": "markdown",
      "source": [
        "####**Mix**"
      ],
      "metadata": {
        "id": "yAVmTX159z0I"
      }
    },
    {
      "cell_type": "code",
      "source": [
        "# 26. Write a code to create a list, a tuple, and a dictionary, and print them all.\n",
        "my_list = [\"Book\", \"Pen\", \"Mirror\"]\n",
        "my_tuple = (5, 8, 9.0)\n",
        "my_dict = {\"Movie\": \"All the Best\", \"Actor\": \"Vicky Kaushal\"}\n",
        "print(f\" My list is {my_list}\\n My tuple is {my_tuple}\\n My dictionary is {my_dict}\")"
      ],
      "metadata": {
        "colab": {
          "base_uri": "https://localhost:8080/"
        },
        "id": "0oZ-uNwQ942j",
        "outputId": "742d397e-cb7a-4a0d-e8b5-2af98d70ba65"
      },
      "execution_count": null,
      "outputs": [
        {
          "output_type": "stream",
          "name": "stdout",
          "text": [
            " My list is ['Book', 'Pen', 'Mirror']\n",
            " My tuple is (5, 8, 9.0)\n",
            " My dictionary is {'Movie': 'All the Best', 'Actor': 'Vicky Kaushal'}\n"
          ]
        }
      ]
    },
    {
      "cell_type": "code",
      "source": [
        "# 27. Write a code to create a list of 5 random numbers between 1 and 100, sort it in ascending order, and print the result.(replaced)\n",
        "import random\n",
        "random_numbers = [random.randint(1, 100) for _ in range(5)]\n",
        "random_numbers.sort()\n",
        "print(random_numbers)"
      ],
      "metadata": {
        "colab": {
          "base_uri": "https://localhost:8080/"
        },
        "id": "eWWeZeSm_Rm5",
        "outputId": "2a05bc91-66eb-4a5f-b70a-864dac61459a"
      },
      "execution_count": null,
      "outputs": [
        {
          "output_type": "stream",
          "name": "stdout",
          "text": [
            "[13, 27, 32, 86, 97]\n"
          ]
        }
      ]
    },
    {
      "cell_type": "code",
      "source": [
        "# 28. Write a code to create a list with strings and print the element at the third index.\n",
        "my_list = [\"Swar\", \"Book\", \"Love\", \"Blessings\", \"Care\"]\n",
        "print(my_list[3])"
      ],
      "metadata": {
        "colab": {
          "base_uri": "https://localhost:8080/"
        },
        "id": "ASWqNcpmFS80",
        "outputId": "bd4ea32e-2139-4b69-f511-478c436856d6"
      },
      "execution_count": null,
      "outputs": [
        {
          "output_type": "stream",
          "name": "stdout",
          "text": [
            "Blessings\n"
          ]
        }
      ]
    },
    {
      "cell_type": "code",
      "source": [
        "# 29.  Write a code to combine two dictionaries into one and print the result.\n",
        "dict1 = {\"Name\": \"Swar\", \"Age\": 25, \"Hobby\": \"Book Reading\"}\n",
        "dict2 = {\"Books\": \"The Alchemist\", \"Author\": \"Paulo Coelho\"}\n",
        "dict1.update(dict2)\n",
        "print(dict1)"
      ],
      "metadata": {
        "colab": {
          "base_uri": "https://localhost:8080/"
        },
        "id": "QQ26pv_wFsic",
        "outputId": "56693b90-14e5-4402-bbaa-fc087286f79b"
      },
      "execution_count": null,
      "outputs": [
        {
          "output_type": "stream",
          "name": "stdout",
          "text": [
            "{'Name': 'Swar', 'Age': 25, 'Hobby': 'Book Reading', 'Books': 'The Alchemist', 'Author': 'Paulo Coelho'}\n"
          ]
        }
      ]
    },
    {
      "cell_type": "code",
      "source": [
        "# 30.  Write a code to convert a list of strings into a set.\n",
        "my_list = [\"Dress\", \"Make-up Kit\", \"Shoes\", \"Bags\"]\n",
        "my_set = set(my_list)\n",
        "print(my_set)"
      ],
      "metadata": {
        "colab": {
          "base_uri": "https://localhost:8080/"
        },
        "id": "kfA2qTFNGnZX",
        "outputId": "ede30df5-7634-4f90-d196-fa11aff8c5c0"
      },
      "execution_count": null,
      "outputs": [
        {
          "output_type": "stream",
          "name": "stdout",
          "text": [
            "{'Dress', 'Bags', 'Shoes', 'Make-up Kit'}\n"
          ]
        }
      ]
    }
  ]
}